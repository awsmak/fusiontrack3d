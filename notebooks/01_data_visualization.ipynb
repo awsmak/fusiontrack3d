{
 "cells": [
  {
   "cell_type": "markdown",
   "metadata": {},
   "source": [
    "# FusionTrack3D: Data Visualization\n",
    "\n",
    "This notebook demonstrates the loading and visualization of KITTI dataset, showing:\n",
    "1. Camera images\n",
    "2. LiDAR point clouds\n",
    "3. Sensor fusion visualization"
   ]
  },
  {
   "cell_type": "code",
   "execution_count": null,
   "metadata": {},
   "source": [
    "import os\n",
    "import sys\n",
    "# Add the project root to Python path\n",
    "project_root = os.path.abspath(os.path.join(os.getcwd(), '..'))\n",
    "sys.path.append(project_root)\n",
    "\n",
    "import numpy as np\n",
    "import matplotlib.pyplot as plt\n",
    "%matplotlib inline\n",
    "\n",
    "from src.data_utils.kitti_dataset import KITTIDataset\n",
    "from src.data_utils.visualizer import DataVisualizer"
   ]
  },
  {
   "cell_type": "markdown",
   "metadata": {},
   "source": [
    "## 1. Initialize Dataset"
   ]
  },
  {
   "cell_type": "code",
   "execution_count": null,
   "metadata": {},
   "source": [
    "# Initialize dataset loader\n",
    "dataset = KITTIDataset(\n",
    "    base_path='/workspace/data/kitti/raw',\n",
    "    date='2011_09_26',\n",
    "    drive='0001'\n",
    ")\n",
    "\n",
    "print(f\"Number of frames available: {len(dataset.frame_indices)}\")"
   ]
  },
  {
   "cell_type": "markdown",
   "metadata": {},
   "source": [
    "## 2. Visualize Camera Image"
   ]
  },
  {
   "cell_type": "code",
   "execution_count": null,
   "metadata": {},
   "source": [
    "# Load first frame\n",
    "frame_data = dataset.get_frame_data(0)\n",
    "\n",
    "# Display original image\n",
    "plt.figure(figsize=(15, 5))\n",
    "plt.imshow(frame_data['image'])\n",
    "plt.title('Camera Image')\n",
    "plt.axis('off')\n",
    "plt.show()"
   ]
  },
  {
   "cell_type": "markdown",
   "metadata": {},
   "source": [
    "## 3. Visualize LiDAR Projection"
   ]
  },
  {
   "cell_type": "code",
   "execution_count": null,
   "metadata": {},
   "source": [
    "# Display image with LiDAR points overlaid\n",
    "DataVisualizer.visualize_frame(frame_data, show_lidar_overlay=True)"
   ]
  },
  {
   "cell_type": "markdown",
   "metadata": {},
   "source": [
    "## 4. 3D Point Cloud Visualization"
   ]
  },
  {
   "cell_type": "code",
   "execution_count": null,
   "metadata": {},
   "source": [
    "# Visualize 3D point cloud\n",
    "DataVisualizer.visualize_point_cloud(frame_data['points'])"
   ]
  },
  {
   "cell_type": "markdown",
   "metadata": {},
   "source": [
    "## 5. Interactive Frame Viewer"
   ]
  },
  {
   "cell_type": "code",
   "execution_count": null,
   "metadata": {},
   "source": [
    "def view_frame(frame_idx):\n",
    "    \"\"\"Interactive function to view any frame in the dataset\"\"\"\n",
    "    frame_data = dataset.get_frame_data(frame_idx)\n",
    "    DataVisualizer.visualize_frame_multi_view(frame_data)\n",
    "\n",
    "# Create interactive slider for frame selection\n",
    "from ipywidgets import interact\n",
    "interact(view_frame, \n",
    "        frame_idx=dict(\n",
    "            min=0,\n",
    "            max=len(dataset.frame_indices)-1,\n",
    "            step=1,\n",
    "            value=0\n",
    "        )\n",
    ")"
   ]
  }
 ],
 "metadata": {
  "kernelspec": {
   "display_name": "Python 3",
   "language": "python",
   "name": "python3"
  }
 },
 "nbformat": 4,
 "nbformat_minor": 4
}